{
 "cells": [
  {
   "attachments": {},
   "cell_type": "markdown",
   "metadata": {},
   "source": [
    "# 作业四：语者辨识\n",
    "根据不同人物的声音信号的MFCC梅尔倒谱系数特征（训练集+测试集），构建Transformer框架，训练网络进行分类任务。"
   ]
  },
  {
   "attachments": {},
   "cell_type": "markdown",
   "metadata": {},
   "source": [
    "### 数据集"
   ]
  },
  {
   "cell_type": "code",
   "execution_count": null,
   "metadata": {},
   "outputs": [],
   "source": [
    "# 示例代码给的链接已经失效了，推荐直接去Kaggle下载 https://www.kaggle.com/competitions/ml2022spring-hw4/data\n",
    "!wget https://github.com/MachineLearningHW/ML_HW4_Dataset/releases/latest/download/Dataset.tar.gz.partaa\n",
    "!wget https://github.com/MachineLearningHW/ML_HW4_Dataset/releases/latest/download/Dataset.tar.gz.partab\n",
    "!wget https://github.com/MachineLearningHW/ML_HW4_Dataset/releases/latest/download/Dataset.tar.gz.partac\n",
    "!wget https://github.com/MachineLearningHW/ML_HW4_Dataset/releases/latest/download/Dataset.tar.gz.partad\n",
    "\n",
    "!cat Dataset.tar.gz.part* > Dataset.tar.gz\n",
    "\n",
    "# unzip the file\n",
    "!tar zxvf Dataset.tar.gz"
   ]
  },
  {
   "attachments": {},
   "cell_type": "markdown",
   "metadata": {},
   "source": [
    "### 设置随机种子"
   ]
  },
  {
   "cell_type": "code",
   "execution_count": 2,
   "metadata": {},
   "outputs": [],
   "source": [
    "import numpy as np\n",
    "import torch\n",
    "import random\n",
    "\n",
    "def set_seed(seed):\n",
    "    np.random.seed(seed)\n",
    "    random.seed(seed)\n",
    "    torch.manual_seed(seed)\n",
    "    if torch.cuda.is_available():\n",
    "        torch.cuda.manual_seed(seed)\n",
    "        torch.cuda.manual_seed_all(seed)\n",
    "    torch.backends.cudnn.benchmark = False\n",
    "    torch.backends.cudnn.deterministic = True\n",
    "\n",
    "set_seed(666)"
   ]
  },
  {
   "attachments": {},
   "cell_type": "markdown",
   "metadata": {},
   "source": [
    "### 数据集\n",
    "整个数据集由以下成分组成：\n",
    "- data directory \\\n",
    "|---- metadata.json \\ |---- testdata.json \\ |---- mapping.json \\ |---- uttr-{random string}.pt \\\n",
    "\n",
    "其中前三个json文件包含了各类配置，如metadata.json里面包含了梅尔频谱系数的维度信息，不同id对应的语音信息的文件名（这部分用一个巨大的字典来存储）；各类pt文件则是所有的数据经梅尔频谱系数提取后的文件"
   ]
  },
  {
   "cell_type": "code",
   "execution_count": 3,
   "metadata": {},
   "outputs": [],
   "source": [
    "import os\n",
    "import json\n",
    "import torch\n",
    "import random\n",
    "from pathlib import Path\n",
    "from torch.utils.data import Dataset\n",
    "from torch.nn.utils.rnn import pad_sequence\n",
    " \n",
    " \n",
    "class myDataset(Dataset):\n",
    "\tdef __init__(self, data_dir, segment_len=128):\n",
    "\t\tself.data_dir = data_dir\n",
    "\t\tself.segment_len = segment_len\n",
    "\t\n",
    "\t\t# Load the mapping from speaker neme to their corresponding id. \n",
    "\t\tmapping_path = Path(data_dir) / \"mapping.json\"\n",
    "\t\tmapping = json.load(mapping_path.open())\n",
    "\t\tself.speaker2id = mapping[\"speaker2id\"]\n",
    "\t\n",
    "\t\t# Load metadata of training data.\n",
    "\t\tmetadata_path = Path(data_dir) / \"metadata.json\"\n",
    "\t\tmetadata = json.load(open(metadata_path))[\"speakers\"]\n",
    "\t\n",
    "\t\t# Get the total number of speaker.\n",
    "\t\tself.speaker_num = len(metadata.keys())\n",
    "\t\tself.data = []\n",
    "\t\tfor speaker in metadata.keys():\n",
    "\t\t\tfor utterances in metadata[speaker]:\n",
    "\t\t\t\tself.data.append([utterances[\"feature_path\"], self.speaker2id[speaker]])\n",
    " \n",
    "\tdef __len__(self):\n",
    "\t\treturn len(self.data)\n",
    " \n",
    "\tdef __getitem__(self, index):\n",
    "\t\tfeat_path, speaker = self.data[index]\n",
    "\t\t# Load preprocessed mel-spectrogram.\n",
    "\t\tmel = torch.load(os.path.join(self.data_dir, feat_path))\n",
    "\n",
    "\t\t# Segmemt mel-spectrogram into \"segment_len\" frames.\n",
    "\t\tif len(mel) > self.segment_len:\n",
    "\t\t\t# Randomly get the starting point of the segment.\n",
    "\t\t\tstart = random.randint(0, len(mel) - self.segment_len)\n",
    "\t\t\t# Get a segment with \"segment_len\" frames.\n",
    "\t\t\tmel = torch.FloatTensor(mel[start:start+self.segment_len])\n",
    "\t\telse:\n",
    "\t\t\tmel = torch.FloatTensor(mel)\n",
    "\t\t# Turn the speaker id into long for computing loss later.\n",
    "\t\tspeaker = torch.FloatTensor([speaker]).long()\n",
    "\t\treturn mel, speaker\n",
    " \n",
    "\tdef get_speaker_number(self):\n",
    "\t\treturn self.speaker_num"
   ]
  },
  {
   "attachments": {},
   "cell_type": "markdown",
   "metadata": {},
   "source": [
    "### 数据加载\n",
    "这里将所有的训练资料按9:1的比例划分了训练集和验证集"
   ]
  },
  {
   "cell_type": "code",
   "execution_count": 4,
   "metadata": {},
   "outputs": [],
   "source": [
    "import torch\n",
    "from torch.utils.data import DataLoader, random_split\n",
    "from torch.nn.utils.rnn import pad_sequence\n",
    "\n",
    "\n",
    "def collate_batch(batch):\n",
    "\t# Process features within a batch.\n",
    "\t\"\"\"Collate a batch of data.\"\"\"\n",
    "\tmel, speaker = zip(*batch)\n",
    "\t# Because we train the model batch by batch, we need to pad the features in the same batch to make their lengths the same.\n",
    "\tmel = pad_sequence(mel, batch_first=True, padding_value=-20)    # pad log 10^(-20) which is very small value.\n",
    "\t# mel: (batch size, length, 40)\n",
    "\treturn mel, torch.FloatTensor(speaker).long()\n",
    "\n",
    "\n",
    "def get_dataloader(data_dir, batch_size, n_workers):\n",
    "\t\"\"\"Generate dataloader\"\"\"\n",
    "\tdataset = myDataset(data_dir)\n",
    "\tspeaker_num = dataset.get_speaker_number()\n",
    "\t# Split dataset into training dataset and validation dataset\n",
    "\ttrainlen = int(0.9 * len(dataset))\n",
    "\tlengths = [trainlen, len(dataset) - trainlen]\n",
    "\ttrainset, validset = random_split(dataset, lengths)\n",
    "\n",
    "\ttrain_loader = DataLoader(\n",
    "\t\ttrainset,\n",
    "\t\tbatch_size=batch_size,\n",
    "\t\tshuffle=True,\n",
    "\t\tdrop_last=True,\n",
    "\t\tnum_workers=n_workers,\n",
    "\t\tpin_memory=True,\n",
    "\t\tcollate_fn=collate_batch,\n",
    "\t)\n",
    "\tvalid_loader = DataLoader(\n",
    "\t\tvalidset,\n",
    "\t\tbatch_size=batch_size,\n",
    "\t\tnum_workers=n_workers,\n",
    "\t\tdrop_last=True,\n",
    "\t\tpin_memory=True,\n",
    "\t\tcollate_fn=collate_batch,\n",
    "\t)\n",
    "\n",
    "\treturn train_loader, valid_loader, speaker_num"
   ]
  },
  {
   "attachments": {},
   "cell_type": "markdown",
   "metadata": {},
   "source": [
    "### 定义模型\n",
    "TransformerEncoderLayer：基本Self attention层。参数：\n",
    "- d_model: 输入的特征数（必需）\n",
    "- nhead: Multi-head attention的head数（必需）\n",
    "- dim_feedforward: 前向传播网络模型的维度（默认2048）\n",
    "- dropout: dropout率（默认0.1）\n",
    "- activation: 激活层的函数（relu或gelu，默认relu）\n",
    "\n",
    "TransformerEncoder：几个TransformerEncoderLayer的累加而得。参数：\n",
    "- encoder_layer: 上面TransformerEncoderLayer()类的一个实例（必需）\n",
    "- num_layers: 这样的encoder_layer一共有多少层（必需）\n",
    "- norm: 层归一化选项（可选）\n",
    "\n",
    "这两个类都是写在torch.nn.modules里面的，可以点进它们的源码查看，里面包括Mutihead-Attention和LayerNorm的计算还有进一步的封装"
   ]
  },
  {
   "cell_type": "code",
   "execution_count": 5,
   "metadata": {},
   "outputs": [],
   "source": [
    "import torch\n",
    "import torch.nn as nn\n",
    "import torch.nn.functional as F\n",
    "\n",
    "\n",
    "class Classifier(nn.Module):\n",
    "\tdef __init__(self, d_model=80, n_spks=600, dropout=0.1):\n",
    "\t\tsuper().__init__()\n",
    "\t\t# Project the dimension of features from that of input into d_model.\n",
    "\t\tself.prenet = nn.Linear(40, d_model)\n",
    "\t\t# TODO:\n",
    "\t\t#   Change Transformer to Conformer.\n",
    "\t\t#   https://arxiv.org/abs/2005.08100\n",
    "\t\tself.encoder_layer = nn.TransformerEncoderLayer(\n",
    "\t\t\td_model=d_model, dim_feedforward=256, nhead=2\n",
    "\t\t)\n",
    "\t\tself.encoder = nn.TransformerEncoder(self.encoder_layer, num_layers=6)\n",
    "\n",
    "\t\t# Project the the dimension of features from d_model into speaker nums.\n",
    "\t\tself.pred_layer = nn.Sequential(\n",
    "\t\t\tnn.Linear(d_model, d_model),\n",
    "\t\t\tnn.ReLU(),\n",
    "\t\t\tnn.Linear(d_model, n_spks),\n",
    "\t\t)\n",
    "\n",
    "\tdef forward(self, mels):\n",
    "\t\t\"\"\"\n",
    "\t\targs:\n",
    "\t\t\tmels: (batch size, length, 40)\n",
    "\t\treturn:\n",
    "\t\t\tout: (batch size, n_spks)\n",
    "\t\t\"\"\"\n",
    "\t\t# out: (batch size, length, d_model)\n",
    "\t\tout = self.prenet(mels)\n",
    "\t\t# out: (length, batch size, d_model)\n",
    "\t\tout = out.permute(1, 0, 2)\n",
    "\t\t# The encoder layer expect features in the shape of (length, batch size, d_model).\n",
    "\t\tout = self.encoder(out)\n",
    "\t\t# out: (batch size, length, d_model)\n",
    "\t\tout = out.transpose(0, 1)\n",
    "\t\t# mean pooling\n",
    "\t\tstats = out.mean(dim=1)\n",
    "\n",
    "\t\t# out: (batch, n_spks)\n",
    "\t\tout = self.pred_layer(stats)\n",
    "\t\treturn out"
   ]
  },
  {
   "attachments": {},
   "cell_type": "markdown",
   "metadata": {},
   "source": [
    "### 学习率调整策略\n",
    "Transformer的Learning rate scheduler和CNN不太一样。研究表明warmup策略对训练transformer模型结构很有帮助。"
   ]
  },
  {
   "cell_type": "code",
   "execution_count": 6,
   "metadata": {},
   "outputs": [],
   "source": [
    "import math\n",
    "\n",
    "import torch\n",
    "from torch.optim import Optimizer\n",
    "from torch.optim.lr_scheduler import LambdaLR\n",
    "\n",
    "\n",
    "def get_cosine_schedule_with_warmup(\n",
    "\toptimizer: Optimizer,\n",
    "\tnum_warmup_steps: int,\n",
    "\tnum_training_steps: int,\n",
    "\tnum_cycles: float = 0.5,\n",
    "\tlast_epoch: int = -1,\n",
    "):\n",
    "\t\"\"\"\n",
    "\tCreate a schedule with a learning rate that decreases following the values of the cosine function between the\n",
    "\tinitial lr set in the optimizer to 0, after a warmup period during which it increases linearly between 0 and the\n",
    "\tinitial lr set in the optimizer.\n",
    "\n",
    "\tArgs:\n",
    "\t\toptimizer (:class:`~torch.optim.Optimizer`):\n",
    "\t\tThe optimizer for which to schedule the learning rate.\n",
    "\t\tnum_warmup_steps (:obj:`int`):\n",
    "\t\tThe number of steps for the warmup phase.\n",
    "\t\tnum_training_steps (:obj:`int`):\n",
    "\t\tThe total number of training steps.\n",
    "\t\tnum_cycles (:obj:`float`, `optional`, defaults to 0.5):\n",
    "\t\tThe number of waves in the cosine schedule (the defaults is to just decrease from the max value to 0\n",
    "\t\tfollowing a half-cosine).\n",
    "\t\tlast_epoch (:obj:`int`, `optional`, defaults to -1):\n",
    "\t\tThe index of the last epoch when resuming training.\n",
    "\n",
    "\tReturn:\n",
    "\t\t:obj:`torch.optim.lr_scheduler.LambdaLR` with the appropriate schedule.\n",
    "\t\"\"\"\n",
    "\tdef lr_lambda(current_step):\n",
    "\t\t# Warmup\n",
    "\t\tif current_step < num_warmup_steps:\n",
    "\t\t\treturn float(current_step) / float(max(1, num_warmup_steps))\n",
    "\t\t# decadence\n",
    "\t\tprogress = float(current_step - num_warmup_steps) / float(\n",
    "\t\t\tmax(1, num_training_steps - num_warmup_steps)\n",
    "\t\t)\n",
    "\t\treturn max(\n",
    "\t\t\t0.0, 0.5 * (1.0 + math.cos(math.pi * float(num_cycles) * 2.0 * progress))\n",
    "\t\t)\n",
    "\n",
    "\treturn LambdaLR(optimizer, lr_lambda, last_epoch)"
   ]
  },
  {
   "attachments": {},
   "cell_type": "markdown",
   "metadata": {},
   "source": [
    "### 模型正向函数\n",
    "（例程给的，虽然我感觉这部分完全可以写进main函数里面）"
   ]
  },
  {
   "cell_type": "code",
   "execution_count": 7,
   "metadata": {},
   "outputs": [],
   "source": [
    "import torch\n",
    "\n",
    "\n",
    "def model_fn(batch, model, criterion, device):\n",
    "\t\"\"\"Forward a batch through the model.\"\"\"\n",
    "\n",
    "\tmels, labels = batch\n",
    "\tmels = mels.to(device)\n",
    "\tlabels = labels.to(device)\n",
    "\n",
    "\touts = model(mels)\n",
    "\n",
    "\tloss = criterion(outs, labels)\n",
    "\n",
    "\t# Get the speaker id with highest probability.\n",
    "\tpreds = outs.argmax(1)\n",
    "\t# Compute accuracy.\n",
    "\taccuracy = torch.mean((preds == labels).float())\n",
    "\n",
    "\treturn loss, accuracy"
   ]
  },
  {
   "attachments": {},
   "cell_type": "markdown",
   "metadata": {},
   "source": [
    "### 验证函数"
   ]
  },
  {
   "cell_type": "code",
   "execution_count": 8,
   "metadata": {},
   "outputs": [],
   "source": [
    "from tqdm import tqdm\n",
    "import torch\n",
    "\n",
    "\n",
    "def valid(dataloader, model, criterion, device): \n",
    "\t\"\"\"Validate on validation set.\"\"\"\n",
    "\n",
    "\tmodel.eval()\n",
    "\trunning_loss = 0.0\n",
    "\trunning_accuracy = 0.0\n",
    "\tpbar = tqdm(total=len(dataloader.dataset), ncols=0, desc=\"Valid\", unit=\" uttr\")\n",
    "\n",
    "\tfor i, batch in enumerate(dataloader):\n",
    "\t\twith torch.no_grad():\n",
    "\t\t\tloss, accuracy = model_fn(batch, model, criterion, device)\n",
    "\t\t\trunning_loss += loss.item()\n",
    "\t\t\trunning_accuracy += accuracy.item()\n",
    "\n",
    "\t\tpbar.update(dataloader.batch_size)\n",
    "\t\tpbar.set_postfix(\n",
    "\t\t\tloss=f\"{running_loss / (i+1):.2f}\",\n",
    "\t\t\taccuracy=f\"{running_accuracy / (i+1):.2f}\",\n",
    "\t\t)\n",
    "\n",
    "\tpbar.close()\n",
    "\tmodel.train()\n",
    "\n",
    "\treturn running_accuracy / len(dataloader)"
   ]
  },
  {
   "attachments": {},
   "cell_type": "markdown",
   "metadata": {},
   "source": [
    "### Main函数"
   ]
  },
  {
   "cell_type": "code",
   "execution_count": 10,
   "metadata": {},
   "outputs": [
    {
     "name": "stdout",
     "output_type": "stream",
     "text": [
      "[Info]: Use cuda now!\n",
      "[Info]: Finish loading data!\n",
      "[Info]: Finish creating model!\n"
     ]
    },
    {
     "name": "stderr",
     "output_type": "stream",
     "text": [
      "Train: 100% 2000/2000 [01:07<00:00, 29.54 step/s, accuracy=0.06, loss=4.30, step=2000]\n",
      "Valid: 100% 5664/5667 [00:02<00:00, 2588.62 uttr/s, accuracy=0.10, loss=4.43]\n",
      "Train: 100% 2000/2000 [01:06<00:00, 30.06 step/s, accuracy=0.28, loss=3.31, step=4000]\n",
      "Valid: 100% 5664/5667 [00:02<00:00, 2543.60 uttr/s, accuracy=0.24, loss=3.50]\n",
      "Train: 100% 2000/2000 [01:05<00:00, 30.32 step/s, accuracy=0.22, loss=3.40, step=6000]\n",
      "Valid: 100% 5664/5667 [00:02<00:00, 2645.88 uttr/s, accuracy=0.32, loss=3.08]\n",
      "Train: 100% 2000/2000 [01:06<00:00, 29.88 step/s, accuracy=0.28, loss=3.51, step=8000]\n",
      "Valid: 100% 5664/5667 [00:02<00:00, 2628.87 uttr/s, accuracy=0.39, loss=2.70]\n",
      "Train: 100% 2000/2000 [01:05<00:00, 30.53 step/s, accuracy=0.38, loss=2.45, step=1e+4]\n",
      "Valid: 100% 5664/5667 [00:02<00:00, 2591.93 uttr/s, accuracy=0.44, loss=2.48]\n",
      "Train:   0% 6/2000 [00:00<01:18, 25.53 step/s, accuracy=0.56, loss=2.06, step=1e+4]"
     ]
    },
    {
     "name": "stdout",
     "output_type": "stream",
     "text": [
      "Step 10000, best model saved. (accuracy=0.4356)\n"
     ]
    },
    {
     "name": "stderr",
     "output_type": "stream",
     "text": [
      "Train: 100% 2000/2000 [01:06<00:00, 30.10 step/s, accuracy=0.41, loss=2.24, step=12000]\n",
      "Valid: 100% 5664/5667 [00:02<00:00, 2586.20 uttr/s, accuracy=0.50, loss=2.21]\n",
      "Train: 100% 2000/2000 [01:06<00:00, 30.08 step/s, accuracy=0.53, loss=1.57, step=14000]\n",
      "Valid: 100% 5664/5667 [00:02<00:00, 2604.01 uttr/s, accuracy=0.50, loss=2.16]\n",
      "Train: 100% 2000/2000 [01:07<00:00, 29.82 step/s, accuracy=0.62, loss=1.61, step=16000]\n",
      "Valid: 100% 5664/5667 [00:02<00:00, 2633.45 uttr/s, accuracy=0.55, loss=1.97]\n",
      "Train: 100% 2000/2000 [01:06<00:00, 29.99 step/s, accuracy=0.56, loss=1.69, step=18000]\n",
      "Valid: 100% 5664/5667 [00:02<00:00, 2602.74 uttr/s, accuracy=0.57, loss=1.88]\n",
      "Train: 100% 2000/2000 [01:06<00:00, 29.88 step/s, accuracy=0.59, loss=1.79, step=2e+4] \n",
      "Valid: 100% 5664/5667 [00:02<00:00, 2609.22 uttr/s, accuracy=0.59, loss=1.79]\n",
      "Train:   0% 6/2000 [00:00<01:17, 25.79 step/s, accuracy=0.44, loss=1.88, step=2e+4]"
     ]
    },
    {
     "name": "stdout",
     "output_type": "stream",
     "text": [
      "Step 20000, best model saved. (accuracy=0.5939)\n"
     ]
    },
    {
     "name": "stderr",
     "output_type": "stream",
     "text": [
      "Train: 100% 2000/2000 [01:06<00:00, 29.97 step/s, accuracy=0.59, loss=1.63, step=22000]\n",
      "Valid: 100% 5664/5667 [00:02<00:00, 2598.45 uttr/s, accuracy=0.61, loss=1.68]\n",
      "Train: 100% 2000/2000 [01:06<00:00, 30.04 step/s, accuracy=0.75, loss=1.18, step=24000]\n",
      "Valid: 100% 5664/5667 [00:02<00:00, 2626.35 uttr/s, accuracy=0.61, loss=1.70]\n",
      "Train: 100% 2000/2000 [01:05<00:00, 30.49 step/s, accuracy=0.78, loss=1.09, step=26000]\n",
      "Valid: 100% 5664/5667 [00:02<00:00, 2569.10 uttr/s, accuracy=0.65, loss=1.56]\n",
      "Train: 100% 2000/2000 [01:06<00:00, 30.25 step/s, accuracy=0.78, loss=0.87, step=28000]\n",
      "Valid: 100% 5664/5667 [00:02<00:00, 2619.33 uttr/s, accuracy=0.65, loss=1.52]\n",
      "Train: 100% 2000/2000 [01:06<00:00, 30.22 step/s, accuracy=0.66, loss=1.11, step=3e+4] \n",
      "Valid: 100% 5664/5667 [00:02<00:00, 2694.94 uttr/s, accuracy=0.67, loss=1.44]\n",
      "Train:   0% 5/2000 [00:00<01:16, 26.13 step/s, accuracy=0.88, loss=0.70, step=3e+4]"
     ]
    },
    {
     "name": "stdout",
     "output_type": "stream",
     "text": [
      "Step 30000, best model saved. (accuracy=0.6684)\n"
     ]
    },
    {
     "name": "stderr",
     "output_type": "stream",
     "text": [
      "Train: 100% 2000/2000 [01:06<00:00, 30.13 step/s, accuracy=0.78, loss=0.81, step=32000]\n",
      "Valid: 100% 5664/5667 [00:02<00:00, 2653.72 uttr/s, accuracy=0.68, loss=1.41]\n",
      "Train: 100% 2000/2000 [01:05<00:00, 30.33 step/s, accuracy=0.62, loss=1.42, step=34000]\n",
      "Valid: 100% 5664/5667 [00:02<00:00, 2614.03 uttr/s, accuracy=0.68, loss=1.37]\n",
      "Train: 100% 2000/2000 [01:06<00:00, 30.08 step/s, accuracy=0.81, loss=0.68, step=36000]\n",
      "Valid: 100% 5664/5667 [00:02<00:00, 2587.05 uttr/s, accuracy=0.70, loss=1.29]\n",
      "Train: 100% 2000/2000 [01:06<00:00, 30.21 step/s, accuracy=0.84, loss=0.45, step=38000]\n",
      "Valid: 100% 5664/5667 [00:02<00:00, 2641.25 uttr/s, accuracy=0.71, loss=1.32]\n",
      "Train: 100% 2000/2000 [01:06<00:00, 29.90 step/s, accuracy=0.78, loss=0.71, step=4e+4] \n",
      "Valid: 100% 5664/5667 [00:02<00:00, 2632.36 uttr/s, accuracy=0.72, loss=1.24]\n",
      "Train:   0% 5/2000 [00:00<01:31, 21.89 step/s, accuracy=0.91, loss=0.53, step=4e+4]"
     ]
    },
    {
     "name": "stdout",
     "output_type": "stream",
     "text": [
      "Step 40000, best model saved. (accuracy=0.7170)\n"
     ]
    },
    {
     "name": "stderr",
     "output_type": "stream",
     "text": [
      "Train: 100% 2000/2000 [01:06<00:00, 30.04 step/s, accuracy=0.78, loss=0.56, step=42000]\n",
      "Valid: 100% 5664/5667 [00:02<00:00, 2604.89 uttr/s, accuracy=0.74, loss=1.13]\n",
      "Train: 100% 2000/2000 [01:05<00:00, 30.33 step/s, accuracy=0.84, loss=0.55, step=44000]\n",
      "Valid: 100% 5664/5667 [00:02<00:00, 2584.25 uttr/s, accuracy=0.74, loss=1.15]\n",
      "Train: 100% 2000/2000 [01:06<00:00, 30.23 step/s, accuracy=0.88, loss=0.63, step=46000]\n",
      "Valid: 100% 5664/5667 [00:02<00:00, 2618.24 uttr/s, accuracy=0.75, loss=1.12]\n",
      "Train: 100% 2000/2000 [01:07<00:00, 29.71 step/s, accuracy=0.81, loss=0.60, step=48000]\n",
      "Valid: 100% 5664/5667 [00:02<00:00, 2623.12 uttr/s, accuracy=0.76, loss=1.06]\n",
      "Train: 100% 2000/2000 [01:06<00:00, 30.03 step/s, accuracy=0.88, loss=0.48, step=5e+4] \n",
      "Valid: 100% 5664/5667 [00:02<00:00, 2588.33 uttr/s, accuracy=0.77, loss=1.05]\n",
      "Train:   0% 5/2000 [00:00<01:18, 25.53 step/s, accuracy=0.84, loss=0.39, step=5e+4]"
     ]
    },
    {
     "name": "stdout",
     "output_type": "stream",
     "text": [
      "Step 50000, best model saved. (accuracy=0.7694)\n"
     ]
    },
    {
     "name": "stderr",
     "output_type": "stream",
     "text": [
      "Train: 100% 2000/2000 [01:06<00:00, 30.27 step/s, accuracy=0.91, loss=0.39, step=52000]\n",
      "Valid: 100% 5664/5667 [00:02<00:00, 2625.99 uttr/s, accuracy=0.77, loss=1.04]\n",
      "Train: 100% 2000/2000 [01:06<00:00, 30.27 step/s, accuracy=0.91, loss=0.38, step=54000]\n",
      "Valid: 100% 5664/5667 [00:02<00:00, 2617.80 uttr/s, accuracy=0.77, loss=0.99]\n",
      "Train: 100% 2000/2000 [01:06<00:00, 30.14 step/s, accuracy=0.91, loss=0.51, step=56000]\n",
      "Valid: 100% 5664/5667 [00:02<00:00, 2659.88 uttr/s, accuracy=0.79, loss=1.00]\n",
      "Train: 100% 2000/2000 [01:06<00:00, 30.05 step/s, accuracy=0.75, loss=1.08, step=58000]\n",
      "Valid: 100% 5664/5667 [00:02<00:00, 2548.91 uttr/s, accuracy=0.79, loss=0.94]\n",
      "Train: 100% 2000/2000 [01:06<00:00, 30.08 step/s, accuracy=0.84, loss=0.85, step=6e+4] \n",
      "Valid: 100% 5664/5667 [00:02<00:00, 2746.13 uttr/s, accuracy=0.78, loss=0.97]\n",
      "Train:   0% 5/2000 [00:00<01:17, 25.83 step/s, accuracy=0.97, loss=0.14, step=6e+4]"
     ]
    },
    {
     "name": "stdout",
     "output_type": "stream",
     "text": [
      "Step 60000, best model saved. (accuracy=0.7887)\n"
     ]
    },
    {
     "name": "stderr",
     "output_type": "stream",
     "text": [
      "Train: 100% 2000/2000 [01:06<00:00, 30.26 step/s, accuracy=0.91, loss=0.31, step=62000]\n",
      "Valid: 100% 5664/5667 [00:02<00:00, 2662.56 uttr/s, accuracy=0.79, loss=0.94]\n",
      "Train: 100% 2000/2000 [01:06<00:00, 29.85 step/s, accuracy=0.97, loss=0.18, step=64000]\n",
      "Valid: 100% 5664/5667 [00:02<00:00, 2604.13 uttr/s, accuracy=0.80, loss=0.93]\n",
      "Train: 100% 2000/2000 [01:05<00:00, 30.39 step/s, accuracy=0.94, loss=0.58, step=66000]\n",
      "Valid: 100% 5664/5667 [00:02<00:00, 2674.16 uttr/s, accuracy=0.80, loss=0.95]\n",
      "Train: 100% 2000/2000 [01:05<00:00, 30.34 step/s, accuracy=0.78, loss=0.83, step=68000]\n",
      "Valid: 100% 5664/5667 [00:02<00:00, 2610.06 uttr/s, accuracy=0.79, loss=0.95]\n",
      "Train: 100% 2000/2000 [01:06<00:00, 30.19 step/s, accuracy=0.81, loss=0.55, step=7e+4] \n",
      "Valid: 100% 5664/5667 [00:02<00:00, 2579.05 uttr/s, accuracy=0.79, loss=0.96]\n",
      "Train:   0% 0/2000 [00:00<?, ? step/s]\n"
     ]
    },
    {
     "name": "stdout",
     "output_type": "stream",
     "text": [
      "Step 70000, best model saved. (accuracy=0.7975)\n"
     ]
    }
   ],
   "source": [
    "from tqdm import tqdm\n",
    "\n",
    "import torch\n",
    "import torch.nn as nn\n",
    "from torch.optim import AdamW\n",
    "from torch.utils.data import DataLoader, random_split\n",
    "\n",
    "\n",
    "def parse_args():\n",
    "\t\"\"\"arguments\"\"\"\n",
    "\tconfig = {\n",
    "\t\t\"data_dir\": \"./Dataset/Dataset\",\n",
    "\t\t\"save_path\": \"model.ckpt\",\n",
    "\t\t\"batch_size\": 32,\n",
    "\t\t\"n_workers\": 8,\n",
    "\t\t\"valid_steps\": 2000,\n",
    "\t\t\"warmup_steps\": 1000,\n",
    "\t\t\"save_steps\": 10000,\n",
    "\t\t\"total_steps\": 70000,\n",
    "\t}\n",
    "\n",
    "\treturn config\n",
    "\n",
    "\n",
    "def main(\n",
    "\tdata_dir,\n",
    "\tsave_path,\n",
    "\tbatch_size,\n",
    "\tn_workers,\n",
    "\tvalid_steps,\n",
    "\twarmup_steps,\n",
    "\ttotal_steps,\n",
    "\tsave_steps,\n",
    "):\n",
    "\t\"\"\"Main function.\"\"\"\n",
    "\tdevice = torch.device(\"cuda\" if torch.cuda.is_available() else \"cpu\")\n",
    "\tprint(f\"[Info]: Use {device} now!\")\n",
    "\n",
    "\ttrain_loader, valid_loader, speaker_num = get_dataloader(data_dir, batch_size, n_workers)\n",
    "\ttrain_iterator = iter(train_loader)\n",
    "\tprint(f\"[Info]: Finish loading data!\",flush = True)\n",
    "\n",
    "\tmodel = Classifier(n_spks=speaker_num).to(device)\n",
    "\tcriterion = nn.CrossEntropyLoss()\n",
    "\toptimizer = AdamW(model.parameters(), lr=1e-3)\n",
    "\tscheduler = get_cosine_schedule_with_warmup(optimizer, warmup_steps, total_steps)\n",
    "\tprint(f\"[Info]: Finish creating model!\",flush = True)\n",
    "\n",
    "\tbest_accuracy = -1.0\n",
    "\tbest_state_dict = None\n",
    "\n",
    "\tpbar = tqdm(total=valid_steps, ncols=0, desc=\"Train\", unit=\" step\")\n",
    "\n",
    "\tfor step in range(total_steps):\n",
    "\t\t# Get data\n",
    "\t\ttry:\n",
    "\t\t\tbatch = next(train_iterator)\n",
    "\t\texcept StopIteration:\n",
    "\t\t\ttrain_iterator = iter(train_loader)\n",
    "\t\t\tbatch = next(train_iterator)\n",
    "\n",
    "\t\tloss, accuracy = model_fn(batch, model, criterion, device)\n",
    "\t\tbatch_loss = loss.item()\n",
    "\t\tbatch_accuracy = accuracy.item()\n",
    "\n",
    "\t\t# Updata model\n",
    "\t\tloss.backward()\n",
    "\t\toptimizer.step()\n",
    "\t\tscheduler.step()\n",
    "\t\toptimizer.zero_grad()\n",
    "\n",
    "\t\t# Log\n",
    "\t\tpbar.update()\n",
    "\t\tpbar.set_postfix(\n",
    "\t\t\tloss=f\"{batch_loss:.2f}\",\n",
    "\t\t\taccuracy=f\"{batch_accuracy:.2f}\",\n",
    "\t\t\tstep=step + 1,\n",
    "\t\t)\n",
    "\n",
    "\t\t# Do validation\n",
    "\t\tif (step + 1) % valid_steps == 0:\n",
    "\t\t\tpbar.close()\n",
    "\n",
    "\t\t\tvalid_accuracy = valid(valid_loader, model, criterion, device)\n",
    "\n",
    "\t\t\t# keep the best model\n",
    "\t\t\tif valid_accuracy > best_accuracy:\n",
    "\t\t\t\tbest_accuracy = valid_accuracy\n",
    "\t\t\t\tbest_state_dict = model.state_dict()\n",
    "\n",
    "\t\t\tpbar = tqdm(total=valid_steps, ncols=0, desc=\"Train\", unit=\" step\")\n",
    "\n",
    "\t\t# Save the best model so far.\n",
    "\t\tif (step + 1) % save_steps == 0 and best_state_dict is not None:\n",
    "\t\t\ttorch.save(best_state_dict, save_path)\n",
    "\t\t\tpbar.write(f\"Step {step + 1}, best model saved. (accuracy={best_accuracy:.4f})\")\n",
    "\n",
    "\tpbar.close()\n",
    "\n",
    "\n",
    "if __name__ == \"__main__\":\n",
    "\tmain(**parse_args())"
   ]
  },
  {
   "attachments": {},
   "cell_type": "markdown",
   "metadata": {},
   "source": [
    "### Inference代码\n",
    "首先准备数据集"
   ]
  },
  {
   "cell_type": "code",
   "execution_count": 11,
   "metadata": {},
   "outputs": [],
   "source": [
    "import os\n",
    "import json\n",
    "import torch\n",
    "from pathlib import Path\n",
    "from torch.utils.data import Dataset\n",
    "\n",
    "\n",
    "class InferenceDataset(Dataset):\n",
    "\tdef __init__(self, data_dir):\n",
    "\t\ttestdata_path = Path(data_dir) / \"testdata.json\"\n",
    "\t\tmetadata = json.load(testdata_path.open())\n",
    "\t\tself.data_dir = data_dir\n",
    "\t\tself.data = metadata[\"utterances\"]\n",
    "\n",
    "\tdef __len__(self):\n",
    "\t\treturn len(self.data)\n",
    "\n",
    "\tdef __getitem__(self, index):\n",
    "\t\tutterance = self.data[index]\n",
    "\t\tfeat_path = utterance[\"feature_path\"]\n",
    "\t\tmel = torch.load(os.path.join(self.data_dir, feat_path))\n",
    "\n",
    "\t\treturn feat_path, mel\n",
    "\n",
    "\n",
    "def inference_collate_batch(batch):\n",
    "\t\"\"\"Collate a batch of data.\"\"\"\n",
    "\tfeat_paths, mels = zip(*batch)\n",
    "\n",
    "\treturn feat_paths, torch.stack(mels)"
   ]
  },
  {
   "attachments": {},
   "cell_type": "markdown",
   "metadata": {},
   "source": [
    "### 做推理并输出提交到Kaggle的结果"
   ]
  },
  {
   "cell_type": "code",
   "execution_count": 13,
   "metadata": {},
   "outputs": [
    {
     "name": "stdout",
     "output_type": "stream",
     "text": [
      "[Info]: Use cuda now!\n",
      "[Info]: Finish loading data!\n",
      "[Info]: Finish creating model!\n"
     ]
    },
    {
     "name": "stderr",
     "output_type": "stream",
     "text": [
      "100%|██████████| 8000/8000 [00:39<00:00, 203.27it/s]\n"
     ]
    }
   ],
   "source": [
    "import json\n",
    "import csv\n",
    "from pathlib import Path\n",
    "from tqdm import tqdm\n",
    "\n",
    "import torch\n",
    "from torch.utils.data import DataLoader\n",
    "\n",
    "def parse_args():\n",
    "\t\"\"\"arguments\"\"\"\n",
    "\tconfig = {\n",
    "\t\t\"data_dir\": \"./Dataset/Dataset\",\n",
    "\t\t\"model_path\": \"./model.ckpt\",\n",
    "\t\t\"output_path\": \"./output.csv\",\n",
    "\t}\n",
    "\n",
    "\treturn config\n",
    "\n",
    "\n",
    "def main(\n",
    "\tdata_dir,\n",
    "\tmodel_path,\n",
    "\toutput_path,\n",
    "):\n",
    "\t\"\"\"Main function.\"\"\"\n",
    "\tdevice = torch.device(\"cuda\" if torch.cuda.is_available() else \"cpu\")\n",
    "\tprint(f\"[Info]: Use {device} now!\")\n",
    "\n",
    "\tmapping_path = Path(data_dir) / \"mapping.json\"\n",
    "\tmapping = json.load(mapping_path.open())\n",
    "\n",
    "\tdataset = InferenceDataset(data_dir)\n",
    "\tdataloader = DataLoader(\n",
    "\t\tdataset,\n",
    "\t\tbatch_size=1,\n",
    "\t\tshuffle=False,\n",
    "\t\tdrop_last=False,\n",
    "\t\tnum_workers=8,\n",
    "\t\tcollate_fn=inference_collate_batch,\n",
    "\t)\n",
    "\tprint(f\"[Info]: Finish loading data!\",flush = True)\n",
    "\n",
    "\tspeaker_num = len(mapping[\"id2speaker\"])\n",
    "\tmodel = Classifier(n_spks=speaker_num).to(device)\n",
    "\tmodel.load_state_dict(torch.load(model_path))\n",
    "\tmodel.eval()\n",
    "\tprint(f\"[Info]: Finish creating model!\",flush = True)\n",
    "\n",
    "\tresults = [[\"Id\", \"Category\"]]\n",
    "\tfor feat_paths, mels in tqdm(dataloader):\n",
    "\t\twith torch.no_grad():\n",
    "\t\t\tmels = mels.to(device)\n",
    "\t\t\touts = model(mels)\n",
    "\t\t\tpreds = outs.argmax(1).cpu().numpy()\n",
    "\t\t\tfor feat_path, pred in zip(feat_paths, preds):\n",
    "\t\t\t\tresults.append([feat_path, mapping[\"id2speaker\"][str(pred)]])\n",
    "\n",
    "\twith open(output_path, 'w', newline='') as csvfile:\n",
    "\t\twriter = csv.writer(csvfile)\n",
    "\t\twriter.writerows(results)\n",
    "\n",
    "\n",
    "if __name__ == \"__main__\":\n",
    "\tmain(**parse_args())"
   ]
  }
 ],
 "metadata": {
  "kernelspec": {
   "display_name": "d2l-zh",
   "language": "python",
   "name": "python3"
  },
  "language_info": {
   "codemirror_mode": {
    "name": "ipython",
    "version": 3
   },
   "file_extension": ".py",
   "mimetype": "text/x-python",
   "name": "python",
   "nbconvert_exporter": "python",
   "pygments_lexer": "ipython3",
   "version": "3.8.13 (default, Oct 21 2022, 23:50:54) \n[GCC 11.2.0]"
  },
  "orig_nbformat": 4,
  "vscode": {
   "interpreter": {
    "hash": "bcf2d9ec195e4d201fa2eee03e196b15dfc39361815a278fddc720386dc92bb3"
   }
  }
 },
 "nbformat": 4,
 "nbformat_minor": 2
}
